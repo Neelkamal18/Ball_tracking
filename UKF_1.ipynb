{
  "nbformat": 4,
  "nbformat_minor": 0,
  "metadata": {
    "colab": {
      "name": "UKF_1.ipynb",
      "provenance": [],
      "authorship_tag": "ABX9TyORHSULJPlSUuXahjutpOno",
      "include_colab_link": true
    },
    "kernelspec": {
      "name": "python3",
      "display_name": "Python 3"
    }
  },
  "cells": [
    {
      "cell_type": "markdown",
      "metadata": {
        "id": "view-in-github",
        "colab_type": "text"
      },
      "source": [
        "<a href=\"https://colab.research.google.com/github/Neelkamal18/Robotic_Perception/blob/master/UKF_1.ipynb\" target=\"_parent\"><img src=\"https://colab.research.google.com/assets/colab-badge.svg\" alt=\"Open In Colab\"/></a>"
      ]
    },
    {
      "cell_type": "code",
      "metadata": {
        "id": "M1RHkrhQ4aXf",
        "colab_type": "code",
        "outputId": "56d7d8d2-ffd4-40ef-be2b-5fd7333d2698",
        "colab": {
          "base_uri": "https://localhost:8080/",
          "height": 195
        }
      },
      "source": [
        "!pip install filterpy"
      ],
      "execution_count": 5,
      "outputs": [
        {
          "output_type": "stream",
          "text": [
            "Requirement already satisfied: filterpy in /usr/local/lib/python3.6/dist-packages (1.4.5)\n",
            "Requirement already satisfied: scipy in /usr/local/lib/python3.6/dist-packages (from filterpy) (1.4.1)\n",
            "Requirement already satisfied: numpy in /usr/local/lib/python3.6/dist-packages (from filterpy) (1.18.2)\n",
            "Requirement already satisfied: matplotlib in /usr/local/lib/python3.6/dist-packages (from filterpy) (3.2.1)\n",
            "Requirement already satisfied: kiwisolver>=1.0.1 in /usr/local/lib/python3.6/dist-packages (from matplotlib->filterpy) (1.2.0)\n",
            "Requirement already satisfied: pyparsing!=2.0.4,!=2.1.2,!=2.1.6,>=2.0.1 in /usr/local/lib/python3.6/dist-packages (from matplotlib->filterpy) (2.4.7)\n",
            "Requirement already satisfied: python-dateutil>=2.1 in /usr/local/lib/python3.6/dist-packages (from matplotlib->filterpy) (2.8.1)\n",
            "Requirement already satisfied: cycler>=0.10 in /usr/local/lib/python3.6/dist-packages (from matplotlib->filterpy) (0.10.0)\n",
            "Requirement already satisfied: six>=1.5 in /usr/local/lib/python3.6/dist-packages (from python-dateutil>=2.1->matplotlib->filterpy) (1.12.0)\n"
          ],
          "name": "stdout"
        }
      ]
    },
    {
      "cell_type": "code",
      "metadata": {
        "id": "CNJCxgddQYti",
        "colab_type": "code",
        "colab": {}
      },
      "source": [
        "#function defining state transition\n",
        "def A_ball(x,dt):\n",
        "  A = np.eye(7)+np.matrix([[0,dt,0,0,0,0,0],[0,0,0,0,0,0,0],[0,0,0,dt,0,0,0],[0,0,0,0,dt,0,0],[0,0,0,0,0,0,0],[0,0,0,0,0,0,dt],[0,0,0,0,0,0,0]])\n",
        "  return np.dot(A,x)"
      ],
      "execution_count": 0,
      "outputs": []
    },
    {
      "cell_type": "code",
      "metadata": {
        "id": "Kuf3mZJlRFGC",
        "colab_type": "code",
        "colab": {}
      },
      "source": [
        "#function defining output model\n",
        "def h_camera(x,f=1017.036,R=3.335):\n",
        "  u = 617-(f*x[0]/x[5])\n",
        "  v = 360-(f*(x[2]+(x[5]/20)-18*2.54)/x[5])\n",
        "  r = f*R/x[5]\n",
        "  return [u,v,r]\n"
      ],
      "execution_count": 0,
      "outputs": []
    },
    {
      "cell_type": "code",
      "metadata": {
        "id": "ToEcBXtSqz5f",
        "colab_type": "code",
        "colab": {}
      },
      "source": [
        "import csv\n",
        "rdx = csv.reader(open(\"xlist_csv.csv\", \"r\"), delimiter=\",\")\n",
        "x = []\n",
        "for row in rdx:\n",
        "  x.append(float(row[0]))\n",
        "\n",
        "rdy = csv.reader(open(\"ylist_csv.csv\", \"r\"), delimiter=\",\")\n",
        "y = []\n",
        "for row in rdy:\n",
        "  y.append(float(row[0]))\n",
        "\n",
        "rdr = csv.reader(open(\"rlist_csv.csv\", \"r\"), delimiter=\",\")\n",
        "r = []\n",
        "for row in rdr:\n",
        "  r.append(float(row[0]))\n",
        "\n",
        "ini = 30\n",
        "fin = 74\n",
        "\n",
        "zs = [[x[i],y[i],r[i]] for i in range(ini,fin)]\n",
        "\n",
        "rdxw = csv.reader(open(\"XWlist_csv.csv\", \"r\"), delimiter=\",\")\n",
        "xw = []\n",
        "for row in rdxw:\n",
        "  xw.append(float(row[0]))\n",
        "\n",
        "rdyw = csv.reader(open(\"YWlist_csv.csv\", \"r\"), delimiter=\",\")\n",
        "yw = []\n",
        "for row in rdyw:\n",
        "  yw.append(float(row[0]))\n",
        "\n",
        "rdzw = csv.reader(open(\"ZWlist_csv.csv\", \"r\"), delimiter=\",\")\n",
        "zw = []\n",
        "for row in rdzw:\n",
        "  zw.append(float(row[0]))\n",
        "\n",
        "#rdti = csv.reader(open(\"tlist_csv.csv\", \"r\"), delimiter=\",\")\n",
        "#ti = []\n",
        "#for row in rdti:\n",
        "#  ti.append(float(row[0]))\n",
        "\n",
        "#diff = [(ti[i+1]-ti[i]) for i in range(len(ti)-1)]\n",
        "dt = 4/74\n",
        "x0 = [xw[ini],(xw[ini+5]-xw[ini])/(dt*5),yw[ini],(yw[ini+5]-yw[ini])/(dt*5),-979.343,zw[ini],(zw[ini+1]-zw[ini])/(dt)]\n",
        "\n",
        "\n"
      ],
      "execution_count": 0,
      "outputs": []
    },
    {
      "cell_type": "code",
      "metadata": {
        "id": "r1jT9a-_5Lea",
        "colab_type": "code",
        "outputId": "24c0ca09-f912-4317-fc7a-21e450f2b68a",
        "colab": {
          "base_uri": "https://localhost:8080/",
          "height": 388
        }
      },
      "source": [
        "plt.plot(xw[ini:fin],yw[ini:fin])\n",
        "\n",
        "\n",
        "x0"
      ],
      "execution_count": 24,
      "outputs": [
        {
          "output_type": "execute_result",
          "data": {
            "text/plain": [
              "[69.89206881168421,\n",
              " -90.88313412933113,\n",
              " 48.48844119178915,\n",
              " 76.59313755858683,\n",
              " -979.343,\n",
              " 397.0582112269523,\n",
              " 0.0]"
            ]
          },
          "metadata": {
            "tags": []
          },
          "execution_count": 24
        },
        {
          "output_type": "display_data",
          "data": {
            "image/png": "[encoded data removed]",
            "text/plain": [
              "<Figure size 432x288 with 1 Axes>"
            ]
          },
          "metadata": {
            "tags": [],
            "needs_background": "light"
          }
        }
      ]
    },
    {
      "cell_type": "code",
      "metadata": {
        "id": "Mes2IOLs4Rqv",
        "colab_type": "code",
        "outputId": "7ff10243-69b0-4d4b-ff12-18f1683525da",
        "colab": {
          "base_uri": "https://localhost:8080/",
          "height": 282
        }
      },
      "source": [
        "from filterpy.kalman import MerweScaledSigmaPoints\n",
        "from filterpy.kalman import UnscentedKalmanFilter as UKF\n",
        "from filterpy.common import Q_discrete_white_noise\n",
        "import matplotlib.pyplot as plt\n",
        "import numpy as np\n",
        "\n",
        "dt = 4/74\n",
        "\n",
        "sigmas = MerweScaledSigmaPoints(7, alpha=.1, beta=2., kappa=4.)\n",
        "ukf = UKF(dim_x=7, dim_z=3, fx=A_ball,\n",
        "          hx=h_camera, dt=dt, points=sigmas)\n",
        "ukf.x = np.array(x0)\n",
        "ukf.R = np.diag([1, 1,0.1]) \n",
        "ukf.Q[0:2, 0:2] = Q_discrete_white_noise(2, dt=dt, var=0.02)\n",
        "ukf.Q[2:5, 2:5] = Q_discrete_white_noise(3, dt=dt, var=0.02)\n",
        "ukf.Q[5:7, 5:7] = Q_discrete_white_noise(2, dt=dt, var=0.02)\n",
        "\n",
        "uxs = []\n",
        "for z in zs:\n",
        "    ukf.predict()\n",
        "    ukf.update(z)\n",
        "    uxs.append(ukf.x.copy())\n",
        "uxs = np.array(uxs)\n",
        "\n",
        "plt.plot(uxs[:, 0],uxs[:, 2])\n",
        "uxs[0,5]\n"
      ],
      "execution_count": 25,
      "outputs": [
        {
          "output_type": "execute_result",
          "data": {
            "text/plain": [
              "396.4403152751869"
            ]
          },
          "metadata": {
            "tags": []
          },
          "execution_count": 25
        },
        {
          "output_type": "display_data",
          "data": {
            "image/png": "[encoded data removed]",
            "text/plain": [
              "<Figure size 432x288 with 1 Axes>"
            ]
          },
          "metadata": {
            "tags": [],
            "needs_background": "light"
          }
        }
      ]
    },
    {
      "cell_type": "code",
      "metadata": {
        "id": "J-cEt8BwOa2O",
        "colab_type": "code",
        "colab": {}
      },
      "source": [
        "## Observability\n",
        "\n",
        "A = np.eye(7)+np.matrix([[0,dt,0,0,0,0,0],[0,0,0,0,0,0,0],[0,0,0,dt,0,0,0],[0,0,0,0,dt,0,0],[0,0,0,0,0,0,0],[0,0,0,0,0,0,dt],[0,0,0,0,0,0,0]])\n",
        "C = np.matrix([[1,0,0,0,0,-5,0],[0,0,1,0,0,-5,0],[0,0,0,0,0,-10,0]])\n",
        "O = np.vstack((C,np.dot(C,A),np.dot(C,A**2),np.dot(C,A**3),np.dot(C,A**4),np.dot(C,A**5),np.dot(C,A**6)))\n",
        "O_rank = np.linalg.matrix_rank(O)\n",
        "O_rank"
      ],
      "execution_count": 0,
      "outputs": []
    },
    {
      "cell_type": "code",
      "metadata": {
        "id": "Wn9bqLFERllf",
        "colab_type": "code",
        "colab": {}
      },
      "source": [
        "#Checking functions\n",
        "print(A_ball([1,0,1,1,-9,1,0],0.01))\n",
        "print(h_camera([10,0,10,1,-9,1000,0],1000,33.35*(10**-3)))"
      ],
      "execution_count": 0,
      "outputs": []
    },
    {
      "cell_type": "code",
      "metadata": {
        "id": "HJJr0AInbLWz",
        "colab_type": "code",
        "colab": {}
      },
      "source": [
        ""
      ],
      "execution_count": 0,
      "outputs": []
    }
  ]
}